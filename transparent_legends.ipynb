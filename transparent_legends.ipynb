{
  "cells": [
    {
      "cell_type": "code",
      "execution_count": null,
      "metadata": {
        "collapsed": false
      },
      "outputs": [],
      "source": [
        "%matplotlib inline"
      ]
    },
    {
      "cell_type": "markdown",
      "metadata": {},
      "source": [
        "\nTransparent, fancy legends\n==========================\n\nSometimes you know what your data looks like before you plot it, and\nmay know for instance that there won't be much data in the upper right\nhand corner.  Then you can safely create a legend that doesn't overlay\nyour data:\n\n  ax.legend(loc='upper right')\n\nOther times you don't know where your data is, and loc='best' will try\nand place the legend::\n\n  ax.legend(loc='best')\n\nbut still, your legend may overlap your data, and in these cases it's\nnice to make the legend frame transparent.\n\n"
      ]
    },
    {
      "cell_type": "code",
      "execution_count": null,
      "metadata": {
        "collapsed": false
      },
      "outputs": [],
      "source": [
        "import matplotlib.pyplot as plt\nimport numpy as np\n\nnp.random.seed(1234)\nfig, ax = plt.subplots(1)\nax.plot(np.random.randn(300), 'o-', label='normal distribution')\nax.plot(np.random.rand(300), 's-', label='uniform distribution')\nax.set_ylim(-3, 3)\n\nax.legend(loc='best', fancybox=True, framealpha=0.5)\nax.set_title('fancy, transparent legends')"
      ]
    }
  ],
  "metadata": {
    "kernelspec": {
      "display_name": "Python 3",
      "language": "python",
      "name": "python3"
    },
    "language_info": {
      "codemirror_mode": {
        "name": "ipython",
        "version": 3
      },
      "file_extension": ".py",
      "mimetype": "text/x-python",
      "name": "python",
      "nbconvert_exporter": "python",
      "pygments_lexer": "ipython3",
      "version": "3.7.0"
    }
  },
  "nbformat": 4,
  "nbformat_minor": 0
}