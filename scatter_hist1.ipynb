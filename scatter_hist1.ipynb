{
  "cells": [
    {
      "cell_type": "code",
      "execution_count": null,
      "metadata": {
        "collapsed": false
      },
      "outputs": [],
      "source": [
        "%matplotlib inline"
      ]
    },
    {
      "cell_type": "markdown",
      "metadata": {},
      "source": [
        "\n# Scatter Hist\n\n\n\n"
      ]
    },
    {
      "cell_type": "code",
      "execution_count": null,
      "metadata": {
        "collapsed": false
      },
      "outputs": [],
      "source": [
        "import numpy as np\nimport matplotlib.pyplot as plt\nfrom matplotlib.ticker import NullFormatter\n\n# Fixing random state for reproducibility\nnp.random.seed(19680801)\n\n\n# the random data\nx = np.random.randn(1000)\ny = np.random.randn(1000)\n\nnullfmt = NullFormatter()         # no labels\n\n# definitions for the axes\nleft, width = 0.1, 0.65\nbottom, height = 0.1, 0.65\nbottom_h = left_h = left + width + 0.02\n\nrect_scatter = [left, bottom, width, height]\nrect_histx = [left, bottom_h, width, 0.2]\nrect_histy = [left_h, bottom, 0.2, height]\n\n# start with a rectangular Figure\nplt.figure(1, figsize=(8, 8))\n\naxScatter = plt.axes(rect_scatter)\naxHistx = plt.axes(rect_histx)\naxHisty = plt.axes(rect_histy)\n\n# no labels\naxHistx.xaxis.set_major_formatter(nullfmt)\naxHisty.yaxis.set_major_formatter(nullfmt)\n\n# the scatter plot:\naxScatter.scatter(x, y)\n\n# now determine nice limits by hand:\nbinwidth = 0.25\nxymax = max(np.max(np.abs(x)), np.max(np.abs(y)))\nlim = (int(xymax/binwidth) + 1) * binwidth\n\naxScatter.set_xlim((-lim, lim))\naxScatter.set_ylim((-lim, lim))\n\nbins = np.arange(-lim, lim + binwidth, binwidth)\naxHistx.hist(x, bins=bins)\naxHisty.hist(y, bins=bins, orientation='horizontal')\n\naxHistx.set_xlim(axScatter.get_xlim())\naxHisty.set_ylim(axScatter.get_ylim())\n\nplt.show()"
      ]
    }
  ],
  "metadata": {
    "kernelspec": {
      "display_name": "Python 3",
      "language": "python",
      "name": "python3"
    },
    "language_info": {
      "codemirror_mode": {
        "name": "ipython",
        "version": 3
      },
      "file_extension": ".py",
      "mimetype": "text/x-python",
      "name": "python",
      "nbconvert_exporter": "python",
      "pygments_lexer": "ipython3",
      "version": "3.7.0"
    }
  },
  "nbformat": 4,
  "nbformat_minor": 0
}